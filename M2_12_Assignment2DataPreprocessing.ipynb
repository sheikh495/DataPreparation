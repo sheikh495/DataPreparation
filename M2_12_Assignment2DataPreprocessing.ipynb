{
  "cells": [
    {
      "cell_type": "markdown",
      "id": "66160526-8d8e-4495-80c2-3c677947f19b",
      "metadata": {
        "id": "66160526-8d8e-4495-80c2-3c677947f19b",
        "tags": []
      },
      "source": [
        "## **`assignment.M.2`** - Titanic"
      ]
    },
    {
      "cell_type": "markdown",
      "id": "83fbb160-a017-4587-80cd-5963eda1eced",
      "metadata": {
        "id": "83fbb160-a017-4587-80cd-5963eda1eced"
      },
      "source": [
        "### **`Overview and Directions`**\n"
      ]
    },
    {
      "cell_type": "markdown",
      "id": "c7325500-5774-446b-8db2-a14cd95cd8ff",
      "metadata": {
        "id": "c7325500-5774-446b-8db2-a14cd95cd8ff"
      },
      "source": [
        "**`Overview`**\n",
        "- The Titanic dataset builds confidence with machine learning essentials.\n",
        "- Read the dataset's history and features in the course [reference.library.Mashup](https://github.com/cosc-526/home.page/blob/069c9488de24d712c642e0f014d37759fc99185d/reference.library.Mashup.data.mine.pdf).\n",
        "\n",
        "- Follow the analysis stages and tasks to end with predicted survival outcomes.\n",
        "\n",
        "**`Data`**\n",
        "- on course github you're provided 2 data sets for a total three files\n",
        "- `A:`__ RAW - uncurated passenger data for analysis stages 1 and 2\n",
        "- `B:`__ train/test - curated kaggle passenger data stages 3 to 5\n",
        "\n",
        "**`Additional Resources`**\n",
        "https://davidburn.github.io/notebooks/titanic/Titanic/\n"
      ]
    },
    {
      "cell_type": "markdown",
      "id": "a40fe106-569e-4c52-b2d1-a34e173e5167",
      "metadata": {
        "id": "a40fe106-569e-4c52-b2d1-a34e173e5167"
      },
      "source": [
        "### **`Stage 1: Data Preparation`**\n",
        "The Titanic dataset has been around for a while, so\n",
        "- `Q:` Should you trust how others curated it?\n",
        "=> Why is the passenger split at 891 for training? Is that the best?\n",
        "=> Are you confident in the preparation and curation?\n",
        "\n",
        "- `A:` `It depends!`\n",
        "- Read a datasets data dictionary and discern who did the work\n",
        "=> For instance, was a statistician involved?\n",
        "\n",
        "Have all authentic questions and lines of inquiry been considered?\n",
        "- The Titanic raw data set has uncurated `passengers name`\n",
        "=> `Q:` Curious? Has anyone on Kaggle predicted survival based on the # of characters in a name?\n",
        "=> `A:` Probably not! Attempt to observe and question all available data.\n",
        "=> Learning: `discern nuances; know what's strange; and perform relentless discovery`\n",
        "```\n",
        "Windelov, Mr. Einar\n",
        "Braund, Mr. Owen Harris\n",
        "```"
      ]
    },
    {
      "cell_type": "markdown",
      "source": [
        "Q: Should you trust how others curated it?\n",
        "The level of trust in how others curated the dataset depends on various factors"
      ],
      "metadata": {
        "id": "bkPRQMJI3_Cw"
      },
      "id": "bkPRQMJI3_Cw"
    },
    {
      "cell_type": "markdown",
      "source": [
        "=>Why is the passenger split at 891 for training? Is that the best?\n",
        "The passenger split at 891 for training is a common practice in machine learning to evaluate the model's performance on unseen data."
      ],
      "metadata": {
        "id": "C50G5VHD4Pwg"
      },
      "id": "C50G5VHD4Pwg"
    },
    {
      "cell_type": "markdown",
      "source": [
        " Are you confident in the preparation and curation?\n",
        " It is generally a good practice for data scientists and analysts to review the data sources, perform data exploration, and validate the data against domain knowledge or external references to gain confidence in the data quality."
      ],
      "metadata": {
        "id": "JXnGy7iN5bzT"
      },
      "id": "JXnGy7iN5bzT"
    },
    {
      "cell_type": "markdown",
      "source": [
        "In summary, it's essential to be critical and inquisitive when evaluating curated datasets. Reviewing the data dictionary, considering the expertise of those involved, asking thorough questions, and performing relentless discovery can contribute to a more reliable and trustworthy dataset."
      ],
      "metadata": {
        "id": "mHLZ_LiA6O2k"
      },
      "id": "mHLZ_LiA6O2k"
    },
    {
      "cell_type": "markdown",
      "id": "33bc04b0-be2c-4336-92af-6828d5867d33",
      "metadata": {
        "id": "33bc04b0-be2c-4336-92af-6828d5867d33"
      },
      "source": [
        "#### **`Stage 1: Data Preparation`**"
      ]
    },
    {
      "cell_type": "markdown",
      "id": "abafd38f-47c1-4e14-87c2-2d0ba47a6226",
      "metadata": {
        "id": "abafd38f-47c1-4e14-87c2-2d0ba47a6226"
      },
      "source": [
        "`Tasks.Stage.1`\n",
        "1.1 - import three datasets into dataframe names provided; drop cabin/ticket.\n",
        "1.2 - identify missing values in a table.\n",
        "1.3 - identify outliers in a table and.or graphic for age variable\n",
        "=> use interquartile range\n",
        "- - q1 = df_train['age'].quantile(0.25)\n",
        "- - q3 = df_train['age'].quantile(0.75)\n",
        "- - iqr = q3 - q1\n",
        "1.4 - would you use mean substitution  for missing values?\n",
        "=> compare age outliers to age without outliers\n",
        "=> solution provides a box and whiskers but use whatever you like\n",
        "==> plt.boxplot(combined_data, labels=['All Data', 'Outliers'], vert=False)\n",
        "\n",
        "`Useful Resources`\n",
        "- [pd.DataFrame.dropna](https://pandas.pydata.org/docs/reference/api/pandas.DataFrame.dropna.html#pandas-dataframe-dropna)"
      ]
    },
    {
      "cell_type": "markdown",
      "id": "2e596fe1-d791-4a24-91ea-c82fcad2f3a0",
      "metadata": {
        "id": "2e596fe1-d791-4a24-91ea-c82fcad2f3a0"
      },
      "source": [
        "#### **`Task.1.expected.outcome`**"
      ]
    },
    {
      "cell_type": "markdown",
      "id": "b71788c5-a6f1-4cb2-a3cb-6253177795b6",
      "metadata": {
        "id": "b71788c5-a6f1-4cb2-a3cb-6253177795b6"
      },
      "source": [
        "```\n",
        "==> Data fields with null information:\n",
        "passengerId      0\n",
        "survived         0\n",
        "pclass           0\n",
        "sex              0\n",
        "age            177\n",
        "sibsp            0\n",
        "parch            0\n",
        "fare             0\n",
        "embarked         2\n",
        "dtype: int64\n",
        "----------------------------------------\n",
        "\n",
        "----------------------------------------\n",
        "Table of outlier values to assess:\n",
        "     passengerId  survived  pclass   sex   age  sibsp  parch     fare embarked\n",
        "33            34         0       2  male  66.0      0      0  10.5000        S\n",
        "54            55         0       1  male  65.0      0      1  61.9792        C\n",
        "96            97         0       1  male  71.0      0      0  34.6542        C\n",
        "116          117         0       3  male  70.5      0      0   7.7500        Q\n",
        "280          281         0       3  male  65.0      0      0   7.7500        Q\n",
        "456          457         0       1  male  65.0      0      0  26.5500        S\n",
        "493          494         0       1  male  71.0      0      0  49.5042        C\n",
        "630          631         1       1  male  80.0      0      0  30.0000        S\n",
        "672          673         0       2  male  70.0      0      0  10.5000        S\n",
        "745          746         0       1  male  70.0      1      1  71.0000        S\n",
        "851          852         0       3  male  74.0      0      0   7.7750        S\n",
        "----------------------------------------\n",
        "```\n",
        "-----------------------\n",
        "`Visual includes new normalized age value performed in Task.2`\n",
        "- image shows how outliers can introduce age bias given most people around age 30\n",
        "- this doesn't indicate you should or shouldn't exclude the values but illustrates why its important to methodically inspect the data\n",
        "![outlier graphic](https://github.com/cosc-526/home.page/blob/graphics/g.M2.titanic.png?raw=true)"
      ]
    },
    {
      "cell_type": "markdown",
      "id": "6389c2b0-7ddf-4ea1-abcb-3ebc00434e71",
      "metadata": {
        "id": "6389c2b0-7ddf-4ea1-abcb-3ebc00434e71",
        "tags": []
      },
      "source": [
        "##### **`Tasks.Stage.1.Solution`**"
      ]
    },
    {
      "cell_type": "code",
      "execution_count": 1,
      "id": "94a2d95f-b643-4d55-8a73-92ef0e85b8c2",
      "metadata": {
        "colab": {
          "base_uri": "https://localhost:8080/",
          "height": 0
        },
        "id": "94a2d95f-b643-4d55-8a73-92ef0e85b8c2",
        "outputId": "a93b8747-cf5e-48f5-b1a1-212d22a695cd"
      },
      "outputs": [
        {
          "output_type": "stream",
          "name": "stdout",
          "text": [
            "==> Data fields with null information:\n",
            "----------------------------------------\n",
            "----------------------------------------\n",
            "Table of outlier values to assess:\n",
            "----------------------------------------\n"
          ]
        }
      ],
      "source": [
        "import seaborn as sns\n",
        "import pandas as pd\n",
        "import matplotlib.pyplot as plt\n",
        "from sklearn.preprocessing import StandardScaler\n",
        "\n",
        "#=>1.1 - import three datasets into dataframe names provided; drop cabin/ticket columns\n",
        "url_raw = \"https://github.com/cosc-526/home.page/raw/main/data.M.2.titanic.raw.data.xls\"\n",
        "url_train = \"https://raw.githubusercontent.com/cosc-526/home.page/main/data.M.2.titanic_train.csv\"\n",
        "url_test = \"https://raw.githubusercontent.com/cosc-526/home.page/main/data.M.2.titanic_test.csv\"\n",
        "df_raw = pd.read_excel(url_raw)\n",
        "df_train = pd.read_csv(url_train)\n",
        "df_test = pd.read_csv(url_test)\n",
        "\n",
        "\n",
        "# 1.2 - identify and sum the missing values per column in a table\n",
        "print(\"==> Data fields with null information:\")\n",
        "#print(YOURCODEHERE)\n",
        "print(\"----------------------------------------\")\n",
        "\n",
        "\n",
        "#=>1.3 - identify outliers in a table and.or graphic for age variable useing the interquartile range\n",
        "outliers = df_train[(df_train['age'] > 15)]#REPLACE this first row value to be all of the outliers based on age's quantile range (.25 and .75)\n",
        "\n",
        "# # Plot missing values (alternatives OK)\n",
        "# plt.figure(figsize=(6, 2))\n",
        "# plt.bar(??,??)\n",
        "# plt.xticks(rotation=45)\n",
        "# plt.xlabel('Variable')\n",
        "# plt.ylabel('Count of Missing Values')\n",
        "# plt.title('Missing Values in Data')\n",
        "# plt.show()\n",
        "\n",
        "print(\"----------------------------------------\")\n",
        "print(\"Table of outlier values to assess:\")\n",
        "#print(YOURCODEHERE)\n",
        "print(\"----------------------------------------\")\n",
        "\n",
        "\n",
        "#1.4 - would you use mean substitution for missing values?\n",
        "#Overall Answer: YOURTEXT HERE\n",
        "\n",
        "#=> compare age outliers to age without outliers using a plot made with seaborn / sns\n",
        "\n",
        "#  Plot age data in a box and whiskers chart  (alternatives OK)\n",
        "# plt.figure(figsize=(6,3))\n",
        "# plt.boxplot(combined_data, labels=['All Data', 'Outliers'], vert=False)\n",
        "# plt.xlabel('Age')\n",
        "# plt.title('Age Distribution with an without Outliers removed')\n",
        "# plt.show()"
      ]
    },
    {
      "cell_type": "code",
      "source": [
        "import seaborn as sns\n",
        "import pandas as pd\n",
        "import matplotlib.pyplot as plt\n",
        "from sklearn.preprocessing import StandardScaler\n",
        "\n",
        "# Importing the datasets\n",
        "url_raw = \"https://github.com/cosc-526/home.page/raw/main/data.M.2.titanic.raw.data.xls\"\n",
        "url_train = \"https://raw.githubusercontent.com/cosc-526/home.page/main/data.M.2.titanic_train.csv\"\n",
        "url_test = \"https://raw.githubusercontent.com/cosc-526/home.page/main/data.M.2.titanic_test.csv\"\n",
        "df_raw = pd.read_excel(url_raw)\n",
        "df_train = pd.read_csv(url_train)\n",
        "df_test = pd.read_csv(url_test)\n",
        "\n",
        "# Dropping 'cabin' and 'ticket' columns\n",
        "df_raw = df_raw.drop(['cabin', 'ticket'], axis=1)\n",
        "df_train = df_train.drop(['cabin', 'ticket'], axis=1)\n",
        "df_test = df_test.drop(['cabin', 'ticket'], axis=1)\n"
      ],
      "metadata": {
        "id": "Dyjadpszqhah"
      },
      "id": "Dyjadpszqhah",
      "execution_count": 2,
      "outputs": []
    },
    {
      "cell_type": "code",
      "source": [
        "missing_values = df_train.isnull().sum()\n",
        "print(\"==> Data fields with null information:\")\n",
        "print(missing_values)\n",
        "print(\"----------------------------------------\")\n"
      ],
      "metadata": {
        "colab": {
          "base_uri": "https://localhost:8080/",
          "height": 0
        },
        "id": "o-JycXSRqkTw",
        "outputId": "cf0a0f16-4b11-40c2-9563-316cf27d6731"
      },
      "id": "o-JycXSRqkTw",
      "execution_count": 3,
      "outputs": [
        {
          "output_type": "stream",
          "name": "stdout",
          "text": [
            "==> Data fields with null information:\n",
            "passengerId      0\n",
            "survived         0\n",
            "pclass           0\n",
            "sex              0\n",
            "age            177\n",
            "sibsp            0\n",
            "parch            0\n",
            "fare             0\n",
            "embarked         2\n",
            "dtype: int64\n",
            "----------------------------------------\n"
          ]
        }
      ]
    },
    {
      "cell_type": "code",
      "source": [
        "q1 = df_train['age'].quantile(0.25)\n",
        "q3 = df_train['age'].quantile(0.75)\n",
        "iqr = q3 - q1\n",
        "lower_bound = q1 - 1.5 * iqr\n",
        "upper_bound = q3 + 1.5 * iqr\n",
        "\n",
        "outliers = df_train[(df_train['age'] < lower_bound) | (df_train['age'] > upper_bound)]\n",
        "\n",
        "print(\"----------------------------------------\")\n",
        "print(\"Table of outlier values to assess:\")\n",
        "print(outliers)\n",
        "print(\"----------------------------------------\")\n"
      ],
      "metadata": {
        "colab": {
          "base_uri": "https://localhost:8080/",
          "height": 0
        },
        "id": "Bv6gznYlqonE",
        "outputId": "1be9c020-4651-4f20-c6fa-5a43ef599fd5"
      },
      "id": "Bv6gznYlqonE",
      "execution_count": 4,
      "outputs": [
        {
          "output_type": "stream",
          "name": "stdout",
          "text": [
            "----------------------------------------\n",
            "Table of outlier values to assess:\n",
            "     passengerId  survived  pclass   sex   age  sibsp  parch     fare embarked\n",
            "33            34         0       2  male  66.0      0      0  10.5000        S\n",
            "54            55         0       1  male  65.0      0      1  61.9792        C\n",
            "96            97         0       1  male  71.0      0      0  34.6542        C\n",
            "116          117         0       3  male  70.5      0      0   7.7500        Q\n",
            "280          281         0       3  male  65.0      0      0   7.7500        Q\n",
            "456          457         0       1  male  65.0      0      0  26.5500        S\n",
            "493          494         0       1  male  71.0      0      0  49.5042        C\n",
            "630          631         1       1  male  80.0      0      0  30.0000        S\n",
            "672          673         0       2  male  70.0      0      0  10.5000        S\n",
            "745          746         0       1  male  70.0      1      1  71.0000        S\n",
            "851          852         0       3  male  74.0      0      0   7.7750        S\n",
            "----------------------------------------\n"
          ]
        }
      ]
    },
    {
      "cell_type": "markdown",
      "id": "92b93836-440f-4e1e-9856-c036b507bae4",
      "metadata": {
        "id": "92b93836-440f-4e1e-9856-c036b507bae4"
      },
      "source": [
        "#### **`Stage 2: Feature Extraction`**\n",
        "- `Feature Scaling:` Scale numerical features to ensure similar ranges\n",
        "=> techniques like z-score normalization scaling or standardization.\n",
        "- `Feature Selection:` what features contribute most to the target variable?\n",
        "=> techniques like remove redundant features to improve performance and reduce overfitting.\n",
        "\n",
        "`Tasks.Stage.2`\n",
        "=> your response variable is `survival`\n",
        "2.1 - read and bookmark scikitlearn [6.3 Preprocessing data](https://scikit-learn.org/stable/modules/preprocessing.html)\n",
        "2.2 - perform `one-hot encoding` of categorical variable `sex`; display df header\n",
        "2.3 - perform `standarscaler` for a new age variable in df_train\n",
        "\n",
        "Given the resourcs provided thus far,\n",
        "2.4 - `Q:` Would you perform supervised or unsupervised machine learning?\n",
        "2.5 - `Q:` What algorithms would you choose to run?\n",
        "\n",
        "`Useful resources`\n",
        "- [sklearn.preprocessing.OneHotEncoder](https://scikit-learn.org/stable/modules/generated/sklearn.preprocessing.OneHotEncoder.html#sklearn-preprocessing-onehotencoder)\n",
        "- [sklearn.preprocessing.standardscaler](https://scikit-learn.org/stable/modules/generated/sklearn.preprocessing.StandardScaler.html#sklearn-preprocessing-standardscaler)"
      ]
    },
    {
      "cell_type": "markdown",
      "source": [
        "Based on the given code snippet, I am performing data encoding and visualization. This code snippet does not involve any machine learning algorithms or tasks. Instead, it focuses on data preprocessing and data visualization.\n",
        "\n",
        "I start by one-hot encoding the 'sex' variable using the `pd.get_dummies()` function. This creates binary columns for each unique value in the 'sex' variable, representing male and female categories. Then, I display the resulting encoded dataframe using the `head()` function to inspect the encoded data.\n",
        "\n",
        "Next, I calculate the counts of male and female values by summing the values in the 'sex_male' and 'sex_female' columns, respectively. I store these counts in the `counts` list.\n",
        "\n",
        "Finally, I create a bar plot using `plt.bar()` to visualize the counts of male and female values. The x-axis represents the categories ('# male values' and '# female values'), and the y-axis represents the counts. I display the plot using `plt.show()` to visualize the distribution of male and female values.\n",
        "\n",
        "To determine whether supervised or unsupervised machine learning is appropriate, I would need to understand the specific goals and nature of the problem you are trying to solve. If you provide more information about the task at hand, I can assist you in determining which approach would be suitable."
      ],
      "metadata": {
        "id": "9uPW3AsG7Csm"
      },
      "id": "9uPW3AsG7Csm"
    },
    {
      "cell_type": "markdown",
      "source": [
        " 2.5 - Q: What algorithms would you choose to run?\n",
        " Classification:\n",
        "Regression:\n",
        "Clustering:\n",
        "Dimensionality Reduction:\n",
        "Neural Networks:"
      ],
      "metadata": {
        "id": "fx6oXa-88N7a"
      },
      "id": "fx6oXa-88N7a"
    },
    {
      "cell_type": "markdown",
      "id": "d93bba5f-10ec-4f33-847e-fcfea4cd1155",
      "metadata": {
        "id": "d93bba5f-10ec-4f33-847e-fcfea4cd1155"
      },
      "source": [
        "##### **`Tasks.Stage.2.Solution`**"
      ]
    },
    {
      "cell_type": "code",
      "execution_count": 5,
      "id": "1bd9f47b-0c41-4cfb-8e88-7e1571ac2f33",
      "metadata": {
        "colab": {
          "base_uri": "https://localhost:8080/",
          "height": 777
        },
        "id": "1bd9f47b-0c41-4cfb-8e88-7e1571ac2f33",
        "outputId": "2346a8ff-8dec-4daa-9ad3-e7b2e241a72c"
      },
      "outputs": [
        {
          "output_type": "stream",
          "name": "stdout",
          "text": [
            "   pclass  survived                                             name      age  \\\n",
            "0       1         1                    Allen, Miss. Elisabeth Walton  29.0000   \n",
            "1       1         1                   Allison, Master. Hudson Trevor   0.9167   \n",
            "2       1         0                     Allison, Miss. Helen Loraine   2.0000   \n",
            "3       1         0             Allison, Mr. Hudson Joshua Creighton  30.0000   \n",
            "4       1         0  Allison, Mrs. Hudson J C (Bessie Waldo Daniels)  25.0000   \n",
            "\n",
            "   sibsp  parch      fare embarked boat   body  \\\n",
            "0      0      0  211.3375        S    2    NaN   \n",
            "1      1      2  151.5500        S   11    NaN   \n",
            "2      1      2  151.5500        S  NaN    NaN   \n",
            "3      1      2  151.5500        S  NaN  135.0   \n",
            "4      1      2  151.5500        S  NaN    NaN   \n",
            "\n",
            "                         home.dest  sex_female  sex_male  \n",
            "0                     St Louis, MO           1         0  \n",
            "1  Montreal, PQ / Chesterville, ON           0         1  \n",
            "2  Montreal, PQ / Chesterville, ON           1         0  \n",
            "3  Montreal, PQ / Chesterville, ON           0         1  \n",
            "4  Montreal, PQ / Chesterville, ON           1         0  \n"
          ]
        },
        {
          "output_type": "display_data",
          "data": {
            "text/plain": [
              "<Figure size 640x480 with 1 Axes>"
            ],
            "image/png": "[encoded data removed]"
          },
          "metadata": {}
        }
      ],
      "source": [
        "#This code has been provided\n",
        "#=>2.1 - read and bookmark (https://scikit-learn.org/stable/modules/preprocessing.html)\n",
        "df_encoded = pd.get_dummies(df_raw, columns=['sex'])\n",
        "print(df_encoded.head()) #2 new variables created\n",
        "\n",
        "import matplotlib.pyplot as plt\n",
        "df_encoded = pd.get_dummies(df_raw, columns=['sex'])\n",
        "counts = [df_encoded['sex_male'].sum(), df_encoded['sex_female'].sum()]\n",
        "plt.bar(['# male values', '# female values'], counts)\n",
        "plt.show()"
      ]
    },
    {
      "cell_type": "code",
      "source": [
        "# Task 2.1: Read and bookmark scikit-learn 6.3 Preprocessing data\n",
        "import IPython\n",
        "url = 'https://scikit-learn.org/stable/modules/preprocessing.html'\n",
        "iframe = '<iframe src=' + url + ' width=1000 height=600></iframe>'\n",
        "IPython.display.HTML(iframe)\n"
      ],
      "metadata": {
        "colab": {
          "base_uri": "https://localhost:8080/",
          "height": 660
        },
        "id": "owBpvxBl-xCP",
        "outputId": "8ad09616-3556-47cb-97c2-c57370c20803"
      },
      "id": "owBpvxBl-xCP",
      "execution_count": 26,
      "outputs": [
        {
          "output_type": "stream",
          "name": "stderr",
          "text": [
            "/usr/local/lib/python3.10/dist-packages/IPython/core/display.py:724: UserWarning: Consider using IPython.display.IFrame instead\n",
            "  warnings.warn(\"Consider using IPython.display.IFrame instead\")\n"
          ]
        },
        {
          "output_type": "execute_result",
          "data": {
            "text/plain": [
              "<IPython.core.display.HTML object>"
            ],
            "text/html": [
              "<iframe src=https://scikit-learn.org/stable/modules/preprocessing.html width=1000 height=600></iframe>"
            ]
          },
          "metadata": {},
          "execution_count": 26
        }
      ]
    },
    {
      "cell_type": "code",
      "source": [
        "import pandas as pd\n",
        "import matplotlib.pyplot as plt\n",
        "from sklearn.preprocessing import OneHotEncoder, StandardScaler\n",
        "\n",
        "# Load the Titanic training dataset\n",
        "url_train = \"https://raw.githubusercontent.com/cosc-526/home.page/main/data.M.2.titanic_train.csv\"\n",
        "df_train = pd.read_csv(url_train)\n",
        "\n",
        "\n",
        "# Task 2.2: Perform one-hot encoding of categorical variable 'sex' and display the DataFrame header\n",
        "df_encoded = pd.get_dummies(df_train, columns=['sex'])\n",
        "print(df_encoded.head())\n",
        "\n",
        "# Task 2.3: Perform StandardScaler for a new 'age' variable in df_train\n",
        "scaler = StandardScaler()\n",
        "df_encoded['age_scaled'] = scaler.fit_transform(df_encoded[['age']])\n",
        "\n",
        "# Display the head of the DataFrame with the scaled 'age' variable\n",
        "print(df_encoded.head())\n",
        "import matplotlib.pyplot as plt\n",
        "df_encoded = pd.get_dummies(df_raw, columns=['sex'])\n",
        "counts = [df_encoded['sex_male'].sum(), df_encoded['sex_female'].sum()]\n",
        "plt.bar(['# male values', '# female values'], counts)\n",
        "plt.show()\n"
      ],
      "metadata": {
        "colab": {
          "base_uri": "https://localhost:8080/",
          "height": 881
        },
        "id": "PEDs_YwL9m3o",
        "outputId": "58914bc2-4718-4aac-ee3d-71e1478df1a8"
      },
      "id": "PEDs_YwL9m3o",
      "execution_count": 25,
      "outputs": [
        {
          "output_type": "stream",
          "name": "stdout",
          "text": [
            "   passengerId  survived  pclass   age  sibsp  parch            ticket  \\\n",
            "0            1         0       3  22.0      1      0         A/5 21171   \n",
            "1            2         1       1  38.0      1      0          PC 17599   \n",
            "2            3         1       3  26.0      0      0  STON/O2. 3101282   \n",
            "3            4         1       1  35.0      1      0            113803   \n",
            "4            5         0       3  35.0      0      0            373450   \n",
            "\n",
            "      fare cabin embarked  sex_female  sex_male  \n",
            "0   7.2500   NaN        S           0         1  \n",
            "1  71.2833   C85        C           1         0  \n",
            "2   7.9250   NaN        S           1         0  \n",
            "3  53.1000  C123        S           1         0  \n",
            "4   8.0500   NaN        S           0         1  \n",
            "   passengerId  survived  pclass   age  sibsp  parch            ticket  \\\n",
            "0            1         0       3  22.0      1      0         A/5 21171   \n",
            "1            2         1       1  38.0      1      0          PC 17599   \n",
            "2            3         1       3  26.0      0      0  STON/O2. 3101282   \n",
            "3            4         1       1  35.0      1      0            113803   \n",
            "4            5         0       3  35.0      0      0            373450   \n",
            "\n",
            "      fare cabin embarked  sex_female  sex_male  age_scaled  \n",
            "0   7.2500   NaN        S           0         1   -0.530377  \n",
            "1  71.2833   C85        C           1         0    0.571831  \n",
            "2   7.9250   NaN        S           1         0   -0.254825  \n",
            "3  53.1000  C123        S           1         0    0.365167  \n",
            "4   8.0500   NaN        S           0         1    0.365167  \n"
          ]
        },
        {
          "output_type": "display_data",
          "data": {
            "text/plain": [
              "<Figure size 640x480 with 1 Axes>"
            ],
            "image/png": "[encoded data removed]"
          },
          "metadata": {}
        }
      ]
    },
    {
      "cell_type": "code",
      "source": [
        "!pip install pandas\n",
        "!pip install matplotlib\n",
        "!pip install scikit-learn\n",
        "\n"
      ],
      "metadata": {
        "colab": {
          "base_uri": "https://localhost:8080/",
          "height": 0
        },
        "id": "OGN6rekzzt-X",
        "outputId": "7f8d7306-ef7e-4c63-dd6e-c96d42b150cf"
      },
      "id": "OGN6rekzzt-X",
      "execution_count": 6,
      "outputs": [
        {
          "output_type": "stream",
          "name": "stdout",
          "text": [
            "Looking in indexes: https://pypi.org/simple, https://us-python.pkg.dev/colab-wheels/public/simple/\n",
            "Requirement already satisfied: pandas in /usr/local/lib/python3.10/dist-packages (1.5.3)\n",
            "Requirement already satisfied: python-dateutil>=2.8.1 in /usr/local/lib/python3.10/dist-packages (from pandas) (2.8.2)\n",
            "Requirement already satisfied: pytz>=2020.1 in /usr/local/lib/python3.10/dist-packages (from pandas) (2022.7.1)\n",
            "Requirement already satisfied: numpy>=1.21.0 in /usr/local/lib/python3.10/dist-packages (from pandas) (1.22.4)\n",
            "Requirement already satisfied: six>=1.5 in /usr/local/lib/python3.10/dist-packages (from python-dateutil>=2.8.1->pandas) (1.16.0)\n",
            "Looking in indexes: https://pypi.org/simple, https://us-python.pkg.dev/colab-wheels/public/simple/\n",
            "Requirement already satisfied: matplotlib in /usr/local/lib/python3.10/dist-packages (3.7.1)\n",
            "Requirement already satisfied: contourpy>=1.0.1 in /usr/local/lib/python3.10/dist-packages (from matplotlib) (1.0.7)\n",
            "Requirement already satisfied: cycler>=0.10 in /usr/local/lib/python3.10/dist-packages (from matplotlib) (0.11.0)\n",
            "Requirement already satisfied: fonttools>=4.22.0 in /usr/local/lib/python3.10/dist-packages (from matplotlib) (4.39.3)\n",
            "Requirement already satisfied: kiwisolver>=1.0.1 in /usr/local/lib/python3.10/dist-packages (from matplotlib) (1.4.4)\n",
            "Requirement already satisfied: numpy>=1.20 in /usr/local/lib/python3.10/dist-packages (from matplotlib) (1.22.4)\n",
            "Requirement already satisfied: packaging>=20.0 in /usr/local/lib/python3.10/dist-packages (from matplotlib) (23.1)\n",
            "Requirement already satisfied: pillow>=6.2.0 in /usr/local/lib/python3.10/dist-packages (from matplotlib) (8.4.0)\n",
            "Requirement already satisfied: pyparsing>=2.3.1 in /usr/local/lib/python3.10/dist-packages (from matplotlib) (3.0.9)\n",
            "Requirement already satisfied: python-dateutil>=2.7 in /usr/local/lib/python3.10/dist-packages (from matplotlib) (2.8.2)\n",
            "Requirement already satisfied: six>=1.5 in /usr/local/lib/python3.10/dist-packages (from python-dateutil>=2.7->matplotlib) (1.16.0)\n",
            "Looking in indexes: https://pypi.org/simple, https://us-python.pkg.dev/colab-wheels/public/simple/\n",
            "Requirement already satisfied: scikit-learn in /usr/local/lib/python3.10/dist-packages (1.2.2)\n",
            "Requirement already satisfied: numpy>=1.17.3 in /usr/local/lib/python3.10/dist-packages (from scikit-learn) (1.22.4)\n",
            "Requirement already satisfied: scipy>=1.3.2 in /usr/local/lib/python3.10/dist-packages (from scikit-learn) (1.10.1)\n",
            "Requirement already satisfied: joblib>=1.1.1 in /usr/local/lib/python3.10/dist-packages (from scikit-learn) (1.2.0)\n",
            "Requirement already satisfied: threadpoolctl>=2.0.0 in /usr/local/lib/python3.10/dist-packages (from scikit-learn) (3.1.0)\n"
          ]
        }
      ]
    },
    {
      "cell_type": "code",
      "source": [
        "import pandas as pd\n",
        "import matplotlib.pyplot as plt\n",
        "\n",
        "# One-hot encoding the 'sex' variable\n",
        "df_encoded = pd.get_dummies(df_raw, columns=['sex'])\n",
        "\n",
        "# Displaying the head of the encoded dataframe\n",
        "print(df_encoded.head())\n",
        "\n",
        "# Calculating the counts of male and female values\n",
        "counts = [df_encoded['sex_male'].sum(), df_encoded['sex_female'].sum()]\n",
        "\n",
        "# Creating a bar plot to visualize the counts\n",
        "plt.bar(['# male values', '# female values'], counts)\n",
        "plt.show()\n"
      ],
      "metadata": {
        "colab": {
          "base_uri": "https://localhost:8080/",
          "height": 777
        },
        "id": "8sqSl-8azxxu",
        "outputId": "ce8507fd-5b47-4def-d09c-324e6cf33e75"
      },
      "id": "8sqSl-8azxxu",
      "execution_count": 7,
      "outputs": [
        {
          "output_type": "stream",
          "name": "stdout",
          "text": [
            "   pclass  survived                                             name      age  \\\n",
            "0       1         1                    Allen, Miss. Elisabeth Walton  29.0000   \n",
            "1       1         1                   Allison, Master. Hudson Trevor   0.9167   \n",
            "2       1         0                     Allison, Miss. Helen Loraine   2.0000   \n",
            "3       1         0             Allison, Mr. Hudson Joshua Creighton  30.0000   \n",
            "4       1         0  Allison, Mrs. Hudson J C (Bessie Waldo Daniels)  25.0000   \n",
            "\n",
            "   sibsp  parch      fare embarked boat   body  \\\n",
            "0      0      0  211.3375        S    2    NaN   \n",
            "1      1      2  151.5500        S   11    NaN   \n",
            "2      1      2  151.5500        S  NaN    NaN   \n",
            "3      1      2  151.5500        S  NaN  135.0   \n",
            "4      1      2  151.5500        S  NaN    NaN   \n",
            "\n",
            "                         home.dest  sex_female  sex_male  \n",
            "0                     St Louis, MO           1         0  \n",
            "1  Montreal, PQ / Chesterville, ON           0         1  \n",
            "2  Montreal, PQ / Chesterville, ON           1         0  \n",
            "3  Montreal, PQ / Chesterville, ON           0         1  \n",
            "4  Montreal, PQ / Chesterville, ON           1         0  \n"
          ]
        },
        {
          "output_type": "display_data",
          "data": {
            "text/plain": [
              "<Figure size 640x480 with 1 Axes>"
            ],
            "image/png": "[encoded data removed]"
          },
          "metadata": {}
        }
      ]
    },
    {
      "cell_type": "code",
      "source": [
        "import pandas as pd\n",
        "import matplotlib.pyplot as plt\n",
        "from sklearn.preprocessing import StandardScaler\n",
        "\n",
        "# One-hot encoding the 'sex' variable\n",
        "df_encoded = pd.get_dummies(df_raw, columns=['sex'])\n",
        "\n",
        "# Displaying the head of the encoded dataframe\n",
        "print(df_encoded.head())\n",
        "\n",
        "# Perform standard scaling on the 'age' variable in df_train\n",
        "age_values = df_train['age'].values.reshape(-1, 1)  # Reshape to a 2D array\n",
        "scaler = StandardScaler()\n",
        "age_scaled = scaler.fit_transform(age_values)\n",
        "df_train['age_scaled'] = age_scaled\n",
        "\n",
        "# Calculating the counts of male and female values\n",
        "counts = [df_encoded['sex_male'].sum(), df_encoded['sex_female'].sum()]\n",
        "\n",
        "# Creating a bar plot to visualize the counts\n",
        "plt.bar(['# male values', '# female values'], counts)\n",
        "plt.show()\n"
      ],
      "metadata": {
        "colab": {
          "base_uri": "https://localhost:8080/",
          "height": 777
        },
        "id": "nVpnYPvy3Pzq",
        "outputId": "84583d2d-9637-493b-83d1-cbeae882fdfb"
      },
      "id": "nVpnYPvy3Pzq",
      "execution_count": 8,
      "outputs": [
        {
          "output_type": "stream",
          "name": "stdout",
          "text": [
            "   pclass  survived                                             name      age  \\\n",
            "0       1         1                    Allen, Miss. Elisabeth Walton  29.0000   \n",
            "1       1         1                   Allison, Master. Hudson Trevor   0.9167   \n",
            "2       1         0                     Allison, Miss. Helen Loraine   2.0000   \n",
            "3       1         0             Allison, Mr. Hudson Joshua Creighton  30.0000   \n",
            "4       1         0  Allison, Mrs. Hudson J C (Bessie Waldo Daniels)  25.0000   \n",
            "\n",
            "   sibsp  parch      fare embarked boat   body  \\\n",
            "0      0      0  211.3375        S    2    NaN   \n",
            "1      1      2  151.5500        S   11    NaN   \n",
            "2      1      2  151.5500        S  NaN    NaN   \n",
            "3      1      2  151.5500        S  NaN  135.0   \n",
            "4      1      2  151.5500        S  NaN    NaN   \n",
            "\n",
            "                         home.dest  sex_female  sex_male  \n",
            "0                     St Louis, MO           1         0  \n",
            "1  Montreal, PQ / Chesterville, ON           0         1  \n",
            "2  Montreal, PQ / Chesterville, ON           1         0  \n",
            "3  Montreal, PQ / Chesterville, ON           0         1  \n",
            "4  Montreal, PQ / Chesterville, ON           1         0  \n"
          ]
        },
        {
          "output_type": "display_data",
          "data": {
            "text/plain": [
              "<Figure size 640x480 with 1 Axes>"
            ],
            "image/png": "[encoded data removed]"
          },
          "metadata": {}
        }
      ]
    },
    {
      "cell_type": "code",
      "execution_count": null,
      "id": "813c50df-e91c-4864-996f-183e0b094cde",
      "metadata": {
        "colab": {
          "base_uri": "https://localhost:8080/",
          "height": 487
        },
        "id": "813c50df-e91c-4864-996f-183e0b094cde",
        "outputId": "27d7b4d6-758a-41ed-c7f4-ddaa44a4aba4"
      },
      "outputs": [
        {
          "data": {
            "image/png": "[encoded data removed]",
            "text/plain": [
              "<Figure size 800x500 with 1 Axes>"
            ]
          },
          "metadata": {},
          "output_type": "display_data"
        }
      ],
      "source": [
        "#This code has been provided\n",
        "#=>2.3 - perform `standarscaler` for a new age variable\n",
        "# Create DataFrame for all data (excluding outliers)\n",
        "df_train = df_train[~df_train['age'].isin(outliers['age'])]\n",
        "\n",
        "scaler = StandardScaler()\n",
        "all_data = df_raw\n",
        "all_data.loc[:, 'scaled_new_age'] = scaler.fit_transform(all_data[['age']].values.reshape(-1, 1))\n",
        "\n",
        "# Exclude missing values from 'age' variable and scaled new age\n",
        "age_data = all_data['age'].dropna()\n",
        "scaled_age_data = all_data['scaled_new_age'].dropna()\n",
        "\n",
        "# combine all age data\n",
        "combined_data = [age_data, outliers['age'], scaled_age_data]\n",
        "\n",
        "# Plot all data, outliers, and normalized values in the same graph\n",
        "plt.figure(figsize=(8, 5))\n",
        "plt.boxplot(combined_data, labels=['All Data', 'Outliers', 'Normalized Values'], vert=False)\n",
        "plt.xlabel('Age')\n",
        "plt.title('Age Distribution with Outliers and Normalized Values')\n",
        "plt.show()\n",
        "\n"
      ]
    },
    {
      "cell_type": "code",
      "source": [
        "#V2\n",
        "import pandas as pd\n",
        "import matplotlib.pyplot as plt\n",
        "from sklearn.preprocessing import StandardScaler\n",
        "\n",
        "# Create DataFrame for all data (excluding outliers)\n",
        "df_train = df_train[~df_train['age'].isin(outliers['age'])]\n",
        "\n",
        "# Perform standard scaling on the 'age' variable in df_train\n",
        "scaler = StandardScaler()\n",
        "df_train['scaled_age'] = scaler.fit_transform(df_train[['age']])\n",
        "\n",
        "# Exclude missing values from 'age' variable and scaled age\n",
        "age_data = df_train['age'].dropna()\n",
        "scaled_age_data = df_train['scaled_age'].dropna()\n",
        "\n",
        "# Combine all age data\n",
        "combined_data = [age_data, scaled_age_data]\n",
        "\n",
        "# Plot all data and normalized values in the same graph\n",
        "plt.figure(figsize=(8, 5))\n",
        "plt.boxplot(combined_data, labels=['Age', 'Normalized Age'], vert=False)\n",
        "plt.xlabel('Age')\n",
        "plt.title('Age Distribution with Normalized Values')\n",
        "plt.show()\n"
      ],
      "metadata": {
        "colab": {
          "base_uri": "https://localhost:8080/",
          "height": 487
        },
        "id": "Rq1W_WAu5CXy",
        "outputId": "9e21086d-d58f-4df6-abba-a7f2dc006844"
      },
      "id": "Rq1W_WAu5CXy",
      "execution_count": null,
      "outputs": [
        {
          "output_type": "display_data",
          "data": {
            "text/plain": [
              "<Figure size 800x500 with 1 Axes>"
            ],
            "image/png": "[encoded data removed]"
          },
          "metadata": {}
        }
      ]
    },
    {
      "cell_type": "code",
      "source": [
        "# final version\n",
        "import pandas as pd\n",
        "import matplotlib.pyplot as plt\n",
        "from sklearn.preprocessing import StandardScaler\n",
        "\n",
        "# Perform one-hot encoding of the 'sex' variable\n",
        "df_encoded = pd.get_dummies(df_raw, columns=['sex'])\n",
        "\n",
        "# Display the header of the encoded dataframe\n",
        "print(df_encoded.head())\n",
        "\n",
        "# Create DataFrame for all data (excluding outliers)\n",
        "df_train = df_train[~df_train['age'].isin(outliers['age'])]\n",
        "\n",
        "# Perform standard scaling on the 'age' variable in df_train\n",
        "scaler = StandardScaler()\n",
        "df_train['scaled_age'] = scaler.fit_transform(df_train[['age']])\n",
        "\n",
        "# Display the header of df_train after scaling the age variable\n",
        "print(df_train.head())\n",
        "\n",
        "# Answering the questions:\n",
        "# 2.4 - Q: Would you perform supervised or unsupervised machine learning?\n",
        "# It is not possible to determine whether supervised or unsupervised learning is appropriate based on the provided code alone. More context about the problem and data is needed.\n",
        "\n",
        "# 2.5 - Q: What algorithms would you choose to run?\n",
        "# The choice of algorithms depends on the problem you're trying to solve and the nature of the data. Without more information, it is challenging to suggest specific algorithms. Some commonly used algorithms include linear regression, logistic regression, decision trees, random forests, support vector machines, and neural networks.\n",
        "\n",
        "# Plotting the age distribution with outliers and normalized values\n",
        "age_data = df_train['age'].dropna()\n",
        "scaled_age_data = df_train['scaled_age'].dropna()\n",
        "combined_data = [age_data, outliers['age'], scaled_age_data]\n",
        "\n",
        "plt.figure(figsize=(8, 5))\n",
        "plt.boxplot(combined_data, labels=['All Data', 'Outliers', 'Normalized Values'], vert=False)\n",
        "plt.xlabel('Age')\n",
        "plt.title('Age Distribution with Outliers and Normalized Values')\n",
        "plt.show()\n"
      ],
      "metadata": {
        "colab": {
          "base_uri": "https://localhost:8080/",
          "height": 1000
        },
        "id": "fVnZjuIi57Ht",
        "outputId": "9910618d-97c2-4106-e487-5c1e93bf8b32"
      },
      "id": "fVnZjuIi57Ht",
      "execution_count": null,
      "outputs": [
        {
          "output_type": "stream",
          "name": "stdout",
          "text": [
            "   pclass  survived                                             name      age  \\\n",
            "0       1         1                    Allen, Miss. Elisabeth Walton  29.0000   \n",
            "1       1         1                   Allison, Master. Hudson Trevor   0.9167   \n",
            "2       1         0                     Allison, Miss. Helen Loraine   2.0000   \n",
            "3       1         0             Allison, Mr. Hudson Joshua Creighton  30.0000   \n",
            "4       1         0  Allison, Mrs. Hudson J C (Bessie Waldo Daniels)  25.0000   \n",
            "\n",
            "   sibsp  parch      fare embarked boat   body  \\\n",
            "0      0      0  211.3375        S    2    NaN   \n",
            "1      1      2  151.5500        S   11    NaN   \n",
            "2      1      2  151.5500        S  NaN    NaN   \n",
            "3      1      2  151.5500        S  NaN  135.0   \n",
            "4      1      2  151.5500        S  NaN    NaN   \n",
            "\n",
            "                         home.dest  sex_female  sex_male  \n",
            "0                     St Louis, MO           1         0  \n",
            "1  Montreal, PQ / Chesterville, ON           0         1  \n",
            "2  Montreal, PQ / Chesterville, ON           1         0  \n",
            "3  Montreal, PQ / Chesterville, ON           0         1  \n",
            "4  Montreal, PQ / Chesterville, ON           1         0  \n",
            "   passengerId  survived  pclass     sex   age  sibsp  parch     fare  \\\n",
            "0            1         0       3    male  22.0      1      0   7.2500   \n",
            "1            2         1       1  female  38.0      1      0  71.2833   \n",
            "2            3         1       3  female  26.0      0      0   7.9250   \n",
            "3            4         1       1  female  35.0      1      0  53.1000   \n",
            "4            5         0       3    male  35.0      0      0   8.0500   \n",
            "\n",
            "  embarked  age_scaled  scaled_age  \n",
            "0        S   -0.530377   -0.515506  \n",
            "1        C    0.571831    0.650784  \n",
            "2        S   -0.254825   -0.223933  \n",
            "3        S    0.365167    0.432105  \n",
            "4        S    0.365167    0.432105  \n"
          ]
        },
        {
          "output_type": "display_data",
          "data": {
            "text/plain": [
              "<Figure size 800x500 with 1 Axes>"
            ],
            "image/png": "[encoded data removed]"
          },
          "metadata": {}
        }
      ]
    },
    {
      "cell_type": "markdown",
      "id": "b162af70-29e8-4972-b1d3-fc8e15f3d673",
      "metadata": {
        "id": "b162af70-29e8-4972-b1d3-fc8e15f3d673"
      },
      "source": [
        "#### **`Stage 3: Machine Learning + Stage 4: Model Evaluation`**\n",
        "- `Imputation` - either modify unrepaired data, drop it, or dig deeper\n",
        "- `Data Split` Split the preprocessed dataset into train\\test to assess algorithmic effectiveness.\n",
        "- `Train` using the preprocessed training data.\n",
        "\n",
        "**`Stage.3.items`**\n",
        "3.1 -\n",
        "`logistic regression` on a train \\ test of the raw data with\n",
        "- features = ['sex', 'age', 'fare', 'pclass']\n",
        "- X = df_train[features]\n",
        "- y = df_train['survived']\n",
        "\n",
        "**`Stage.4.items`**\n",
        "4.1 Assess accuracy\n",
        "4.2 Assess Cross validation\n",
        "\n",
        "**`Stage.5.items`**\n",
        "5.1 Assess confusion matrix\n",
        "\n",
        "**`Tasks`**\n",
        "- Task.3 - write a description confirming sequence of machine learning activities\n",
        "- Task.4 - write a description confirming understanding of evaluation activities\n",
        "- Task.5 - write a description confirming understanding of visualization activities"
      ]
    },
    {
      "cell_type": "code",
      "source": [
        "#final version\n",
        "import pandas as pd\n",
        "import matplotlib.pyplot as plt\n",
        "from sklearn.linear_model import LogisticRegression\n",
        "from sklearn.model_selection import train_test_split\n",
        "from sklearn.metrics import accuracy_score, confusion_matrix\n",
        "from sklearn.impute import SimpleImputer\n",
        "\n",
        "# Load the Titanic training dataset\n",
        "url_train = \"https://raw.githubusercontent.com/cosc-526/home.page/main/data.M.2.titanic_train.csv\"\n",
        "df_train = pd.read_csv(url_train)\n",
        "\n",
        "# Stage 3 - Logistic Regression on Raw Data\n",
        "features = ['sex', 'age', 'fare', 'pclass']\n",
        "X = df_train[features]\n",
        "y = df_train['survived']\n",
        "\n",
        "# One-hot encoding of categorical variable 'sex'\n",
        "X_encoded = pd.get_dummies(X, columns=['sex'])\n",
        "\n",
        "# Handling missing values by imputing with the mean\n",
        "imputer = SimpleImputer(strategy='mean')\n",
        "X_imputed = pd.DataFrame(imputer.fit_transform(X_encoded), columns=X_encoded.columns)\n",
        "\n",
        "# Splitting the data into training and testing sets\n",
        "X_train, X_test, y_train, y_test = train_test_split(X_imputed, y, test_size=0.2, random_state=42)\n",
        "\n",
        "# Creating and training the logistic regression model\n",
        "model = LogisticRegression()\n",
        "model.fit(X_train, y_train)\n",
        "\n",
        "# Making predictions on the test set\n",
        "y_pred = model.predict(X_test)\n",
        "\n",
        "# Stage 4 - Model Evaluation\n",
        "# 4.1: Assess accuracy\n",
        "accuracy = accuracy_score(y_test, y_pred)\n",
        "print(\"Accuracy:\", round(accuracy, 2))\n",
        "\n",
        "# 4.2: Assess Cross Validation (Not implemented in this code snippet)\n",
        "\n",
        "# Stage 5 - Visualization: Confusion Matrix\n",
        "# 5.1: Assess confusion matrix\n",
        "confusion = confusion_matrix(y_test, y_pred)\n",
        "print(\"Confusion Matrix:\")\n",
        "print(confusion)\n",
        "#------------------\n",
        "import numpy as np\n",
        "import matplotlib.pyplot as plt\n",
        "\n",
        "# Define the confusion matrix\n",
        "confusion_matrix = np.array(confusion)\n",
        "\n",
        "# Define the class labels\n",
        "classes = ['Not Survived', 'Survived']\n",
        "\n",
        "# Plot the confusion matrix\n",
        "plt.imshow(confusion_matrix, interpolation='nearest', cmap=plt.cm.Blues)\n",
        "plt.title('Confusion Matrix')\n",
        "plt.colorbar()\n",
        "tick_marks = np.arange(len(classes))\n",
        "plt.xticks(tick_marks, classes)\n",
        "plt.yticks(tick_marks, classes)\n",
        "\n",
        "# Label the matrix cells\n",
        "thresh = confusion_matrix.max() / 2.\n",
        "for i, j in np.ndindex(confusion_matrix.shape):\n",
        "    plt.text(j, i, format(confusion_matrix[i, j], 'd'),\n",
        "             horizontalalignment=\"center\",\n",
        "             color=\"white\" if confusion_matrix[i, j] > thresh else \"black\")\n",
        "\n",
        "# Add axis labels\n",
        "plt.xlabel('Predicted label')\n",
        "plt.ylabel('True label')\n",
        "plt.tight_layout()\n",
        "\n",
        "# Show the plot\n",
        "plt.show()\n"
      ],
      "metadata": {
        "colab": {
          "base_uri": "https://localhost:8080/",
          "height": 556
        },
        "id": "OV0RCtN7Ahy2",
        "outputId": "f6fccaeb-1304-4f8b-f464-4ae308a57aa6"
      },
      "id": "OV0RCtN7Ahy2",
      "execution_count": 29,
      "outputs": [
        {
          "output_type": "stream",
          "name": "stdout",
          "text": [
            "Accuracy: 0.8\n",
            "Confusion Matrix:\n",
            "[[90 15]\n",
            " [21 53]]\n"
          ]
        },
        {
          "output_type": "display_data",
          "data": {
            "text/plain": [
              "<Figure size 640x480 with 2 Axes>"
            ],
            "image/png": "[encoded data removed]"
          },
          "metadata": {}
        }
      ]
    },
    {
      "cell_type": "code",
      "execution_count": null,
      "id": "8628e9dd-bfa2-4621-9639-c3de56058fa9",
      "metadata": {
        "id": "8628e9dd-bfa2-4621-9639-c3de56058fa9"
      },
      "outputs": [],
      "source": [
        "#Enter Answer.\n",
        "#Remember to read the code below to understand the code.\n",
        "\n",
        "#=> Task.3 - write a description confirming the 5 sequences of machine learning activities, with a short description of each\n",
        "\n",
        "#=> Task.4 - write a description confirming understanding of evaluation activities\n",
        "\n",
        "#=> Task.5 - write a description confirming understanding of visualization activities\n"
      ]
    },
    {
      "cell_type": "markdown",
      "source": [
        "Task.3: The code snippet demonstrates the following five sequences of machine learning activities:\n",
        "\n",
        "1. Data Loading and Preparation: The Titanic training dataset is loaded from a given URL using pandas' `read_csv()` function. The features and target variable are defined, and the categorical feature 'sex' is one-hot encoded using `pd.get_dummies()`. Missing values in the dataset are handled by using `SimpleImputer` to impute missing values with the mean.\n",
        "\n",
        "2. Data Splitting: The dataset is split into training and testing sets using `train_test_split()` from scikit-learn. The training set, which comprises some % of the data, is used to train the logistic regression model, while the testing set is used to evaluate the model's performance.\n",
        "\n",
        "3. Model Creation and Training: An instance of `LogisticRegression()` is created, representing the logistic regression model. The model is trained using the training data by calling the `fit()` method on the model object.\n",
        "\n",
        "4. Prediction: The trained model is used to make predictions on the testing set. The `predict()` method is applied to the test features (`X_test`) to obtain the predicted target values (`y_pred`).\n",
        "\n",
        "5. Model Evaluation: The accuracy of the model is evaluated by comparing the predicted target values with the true target values using the `accuracy_score()` function from scikit-learn. The accuracy score is printed to the console. Additionally, the model's performance is assessed using a confusion matrix, which is computed using the `confusion_matrix()` function from scikit-learn. The confusion matrix is printed to the console.\n",
        "\n",
        "Task.4: The evaluation activities in this code include calculating the accuracy of the model using `accuracy_score()`. The accuracy score represents the proportion of correctly predicted target values out of the total number of predictions. It provides a measure of the model's overall performance in terms of correct predictions.\n",
        "\n",
        "Task.5: The code snippet does not include any visualization activities. However, a possible visualization related to the evaluation could be the display of the confusion matrix using matplotlib or other visualization libraries. The confusion matrix visually represents the performance of a classification model by showing the number of true positive, true negative, false positive, and false negative predictions. It helps in understanding the model's performance in terms of correctly and incorrectly classified instances."
      ],
      "metadata": {
        "id": "Slab8nn2xZnr"
      },
      "id": "Slab8nn2xZnr"
    },
    {
      "cell_type": "code",
      "source": [
        "import pandas as pd\n",
        "from sklearn.linear_model import LogisticRegression\n",
        "from sklearn.model_selection import train_test_split\n",
        "from sklearn.impute import SimpleImputer\n",
        "from sklearn.metrics import accuracy_score, confusion_matrix\n",
        "\n",
        "# Load the Titanic training dataset\n",
        "url_train = \"https://raw.githubusercontent.com/cosc-526/home.page/main/data.M.2.titanic_train.csv\"\n",
        "df_train = pd.read_csv(url_train)\n",
        "\n",
        "# Define the features and target variable\n",
        "#url_test = \"https://raw.githubusercontent.com/cosc-526/home.page/main/data.M.2.titanic_test.csv\"\n",
        "features = ['sex', 'age', 'fare', 'pclass']\n",
        "X = df_train[features]\n",
        "y = df_train['survived']\n",
        "\n",
        "# Perform one-hot encoding on the categorical feature 'sex'\n",
        "X_encoded = pd.get_dummies(X, drop_first=True)\n",
        "\n",
        "# Handle missing values by imputing with the mean\n",
        "imputer = SimpleImputer(strategy='mean')\n",
        "X_imputed = pd.DataFrame(imputer.fit_transform(X_encoded), columns=X_encoded.columns)\n",
        "\n",
        "# Split the data into training and testing sets\n",
        "X_train, X_test, y_train, y_test = train_test_split(X_imputed, y, test_size=0.2, random_state=42)\n",
        "\n",
        "# Create and train the logistic regression model\n",
        "model = LogisticRegression()\n",
        "model.fit(X_train, y_train)\n",
        "\n",
        "# Make predictions on the test set\n",
        "y_pred = model.predict(X_test)\n",
        "\n",
        "# Evaluate the model's accuracy\n",
        "accuracy = accuracy_score(y_test, y_pred)\n",
        "print(\"Accuracy:\", round(accuracy, 2))\n",
        "\n",
        "# Evaluate the model using a confusion matrix\n",
        "confusion = confusion_matrix(y_test, y_pred)\n",
        "print(\"Confusion Matrix:\")\n",
        "print(confusion)\n"
      ],
      "metadata": {
        "colab": {
          "base_uri": "https://localhost:8080/"
        },
        "id": "1UrKqAI9tnZe",
        "outputId": "f84a0afa-7319-4657-9225-b24d975f3b4c"
      },
      "id": "1UrKqAI9tnZe",
      "execution_count": null,
      "outputs": [
        {
          "output_type": "stream",
          "name": "stdout",
          "text": [
            "Accuracy: 0.8\n",
            "Confusion Matrix:\n",
            "[[89 16]\n",
            " [20 54]]\n"
          ]
        }
      ]
    },
    {
      "cell_type": "code",
      "execution_count": null,
      "id": "9eed0724-7338-4a1c-b906-fad29799b954",
      "metadata": {
        "colab": {
          "base_uri": "https://localhost:8080/"
        },
        "id": "9eed0724-7338-4a1c-b906-fad29799b954",
        "outputId": "6bf8717f-88b3-4064-b38e-0c09a2be997d"
      },
      "outputs": [
        {
          "output_type": "stream",
          "name": "stdout",
          "text": [
            "Accuracy: 1.0\n",
            "Confusion Matrix:\n",
            "[[89 16]\n",
            " [20 54]]\n"
          ]
        }
      ],
      "source": [
        "#this code provided\n",
        "import pandas as pd\n",
        "from sklearn.linear_model import LogisticRegression\n",
        "from sklearn.model_selection import train_test_split\n",
        "from sklearn.impute import SimpleImputer\n",
        "from sklearn.metrics import accuracy_score\n",
        "from sklearn.metrics import confusion_matrix\n",
        "\n",
        "'''Stage.3.Tasks'''\n",
        "#=>3.1 perform a logistic regression train \\ test on the raw data with\n",
        "#=>- features = ['sex', 'age', 'fare', 'pclass']\n",
        "#=>- X = df_train[features]\n",
        "#=>- y = df_train['survived']\n",
        "\n",
        "# Load the Titanic dataset\n",
        "url_train = \"https://raw.githubusercontent.com/cosc-526/home.page/main/data.M.2.titanic_train.csv\"\n",
        "df_train = pd.read_csv(url_train)\n",
        "\n",
        "features = ['sex', 'age', 'fare', 'pclass'] # Select features\n",
        "X = df_train[features]                      # Prepare features\n",
        "y = df_train['survived']\n",
        "\n",
        "X_encoded = pd.get_dummies(X, drop_first=True) # one-hot encoding on categorical\n",
        "\n",
        "# Handle missing values\n",
        "imputer = SimpleImputer(strategy='mean')  ## imputing with the mean\n",
        "X_imputed = pd.DataFrame(imputer.fit_transform(X_encoded), columns=X_encoded.columns)\n",
        "\n",
        "# Split train/test\n",
        "X_train, X_test, y_train, y_test = train_test_split(X_imputed, y, test_size=0.2, random_state=42)\n",
        "X_imputed = pd.DataFrame(imputer.fit_transform(X_encoded), columns=X_encoded.columns)\n",
        "\n",
        "# Create and train the logistic regression model\n",
        "model = LogisticRegression()\n",
        "model.fit(X_train, y_train)\n",
        "\n",
        "# Make predictions on the test set\n",
        "y_pred = model.predict(X_test)\n",
        "\n",
        "'''\n",
        "'**`Stage.4.Tasks\n",
        "#=> 4.1 assess accuracy'''\n",
        "\n",
        "accuracy = accuracy_score(y_test, y_pred)\n",
        "print(\"Accuracy:\", round(accuracy,0))\n",
        "\n",
        "#=> 4.2 access Cross validation\n",
        "confusion = confusion_matrix(y_test, y_pred)\n",
        "print(\"Confusion Matrix:\")\n",
        "print(confusion)\n"
      ]
    },
    {
      "cell_type": "markdown",
      "id": "e0cef933-0c7e-402e-ae0e-794d65c6682b",
      "metadata": {
        "id": "e0cef933-0c7e-402e-ae0e-794d65c6682b"
      },
      "source": [
        "**`Stage 5: Visualization`**"
      ]
    },
    {
      "cell_type": "code",
      "execution_count": null,
      "id": "f46aade3-a3a0-469c-8101-0dcdeb762f93",
      "metadata": {
        "colab": {
          "base_uri": "https://localhost:8080/",
          "height": 487
        },
        "id": "f46aade3-a3a0-469c-8101-0dcdeb762f93",
        "outputId": "ffe8908f-a902-430e-881f-d8e1638565ac"
      },
      "outputs": [
        {
          "data": {
            "image/png": "[encoded data removed]",
            "text/plain": [
              "<Figure size 640x480 with 2 Axes>"
            ]
          },
          "metadata": {},
          "output_type": "display_data"
        }
      ],
      "source": [
        "#this code provided\n",
        "import numpy as np\n",
        "import matplotlib.pyplot as plt\n",
        "\n",
        "# Define the confusion matrix\n",
        "confusion_matrix = np.array(confusion)\n",
        "\n",
        "# Define the class labels\n",
        "classes = ['Not Survived', 'Survived']\n",
        "\n",
        "# Plot the confusion matrix\n",
        "plt.imshow(confusion_matrix, interpolation='nearest', cmap=plt.cm.Blues)\n",
        "plt.title('Confusion Matrix')\n",
        "plt.colorbar()\n",
        "tick_marks = np.arange(len(classes))\n",
        "plt.xticks(tick_marks, classes)\n",
        "plt.yticks(tick_marks, classes)\n",
        "\n",
        "# Label the matrix cells\n",
        "thresh = confusion_matrix.max() / 2.\n",
        "for i, j in np.ndindex(confusion_matrix.shape):\n",
        "    plt.text(j, i, format(confusion_matrix[i, j], 'd'),\n",
        "             horizontalalignment=\"center\",\n",
        "             color=\"white\" if confusion_matrix[i, j] > thresh else \"black\")\n",
        "\n",
        "# Add axis labels\n",
        "plt.xlabel('Predicted label')\n",
        "plt.ylabel('True label')\n",
        "plt.tight_layout()\n",
        "\n",
        "# Show the plot\n",
        "plt.show()\n"
      ]
    },
    {
      "cell_type": "code",
      "source": [
        "!pip install jupyterlab"
      ],
      "metadata": {
        "id": "B0S-XMUg0ZrX"
      },
      "id": "B0S-XMUg0ZrX",
      "execution_count": null,
      "outputs": []
    },
    {
      "cell_type": "code",
      "source": [
        "!jupyter nbconvert --to html \"/content/M2_12_Assignment2DataPreprocessing.ipynb\""
      ],
      "metadata": {
        "colab": {
          "base_uri": "https://localhost:8080/"
        },
        "id": "35khzoQG06zj",
        "outputId": "252a3966-b859-47a7-d6b1-32d366f2fb6c"
      },
      "id": "35khzoQG06zj",
      "execution_count": 10,
      "outputs": [
        {
          "output_type": "stream",
          "name": "stdout",
          "text": [
            "[NbConvertApp] Converting notebook /content/M2_12_Assignment2DataPreprocessing.ipynb to html\n",
            "[NbConvertApp] Writing 813637 bytes to /content/M2_12_Assignment2DataPreprocessing.html\n"
          ]
        }
      ]
    }
  ],
  "metadata": {
    "kernelspec": {
      "display_name": "Python 3 (ipykernel)",
      "language": "python",
      "name": "python3"
    },
    "language_info": {
      "codemirror_mode": {
        "name": "ipython",
        "version": 3
      },
      "file_extension": ".py",
      "mimetype": "text/x-python",
      "name": "python",
      "nbconvert_exporter": "python",
      "pygments_lexer": "ipython3",
      "version": "3.10.9"
    },
    "colab": {
      "provenance": []
    }
  },
  "nbformat": 4,
  "nbformat_minor": 5
}